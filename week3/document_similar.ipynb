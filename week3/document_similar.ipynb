{
 "cells": [
  {
   "cell_type": "code",
   "execution_count": 3,
   "id": "3f9c1200",
   "metadata": {},
   "outputs": [
    {
     "data": {
      "text/plain": [
       "True"
      ]
     },
     "execution_count": 3,
     "metadata": {},
     "output_type": "execute_result"
    }
   ],
   "source": [
    "from langchain_huggingface import HuggingFaceEmbeddings\n",
    "from dotenv import load_dotenv\n",
    "from sklearn.metrics.pairwise import cosine_similarity\n",
    "import numpy as np  ## if needed for array manipulations\n",
    "load_dotenv()"
   ]
  },
  {
   "cell_type": "code",
   "execution_count": 6,
   "id": "5df9e361",
   "metadata": {},
   "outputs": [],
   "source": [
    "embedding = HuggingFaceEmbeddings(model_name=\"sentence-transformers/all-MiniLM-L6-v2\")"
   ]
  },
  {
   "cell_type": "code",
   "execution_count": 4,
   "id": "59f1a12f",
   "metadata": {},
   "outputs": [],
   "source": [
    "docs = [\n",
    "    \"Lionel Messi plays for Inter Miami CF and represents Argentina. He is considered one of the greatest footballers of all time, known for his dribbling, vision, and goal-scoring ability.\",\n",
    "    \"Cristiano Ronaldo is a forward for Al Nassr and plays for Portugal. He is renowned for his athleticism, finishing skills, and leadership on the field.\",\n",
    "    \"Kylian Mbappé plays for Paris Saint-Germain and represents France. He is famous for his incredible speed, dribbling, and goal-scoring prowess, and was the youngest to score in a World Cup final since Pelé.\",\n",
    "    \"Erling Haaland is a striker for Manchester City and represents Norway. He is known for his power, finishing ability, and consistent goal-scoring record in top leagues.\",\n",
    "    \"Kevin De Bruyne plays as a midfielder for Manchester City and represents Belgium. He is recognized as one of the best midfielders in the world for his vision, passing, and playmaking skills.\"\n",
    "]"
   ]
  },
  {
   "cell_type": "code",
   "execution_count": 5,
   "id": "bcf31ca3",
   "metadata": {},
   "outputs": [],
   "source": [
    "query = \"Who is the best ronaldo?\"\n"
   ]
  },
  {
   "cell_type": "code",
   "execution_count": 7,
   "id": "92adaf39",
   "metadata": {},
   "outputs": [
    {
     "name": "stdout",
     "output_type": "stream",
     "text": [
      "[0.4509059  0.57191529 0.45277886 0.28295544 0.34074973]\n"
     ]
    }
   ],
   "source": [
    "embeded_docs = embedding.embed_documents(docs)  #### embedding documents\n",
    "embeded_query = embedding.embed_query(query)  #### embedding query\n",
    "\n",
    "similarities_score = cosine_similarity([embeded_query], embeded_docs)[0]  ## input should be 2D arrays\n",
    "## checking which document is most similar to the query\n",
    "print(similarities_score) "
   ]
  },
  {
   "cell_type": "code",
   "execution_count": 8,
   "id": "d892474b",
   "metadata": {},
   "outputs": [
    {
     "name": "stdout",
     "output_type": "stream",
     "text": [
      "[(0, np.float64(0.4509059039041595)), (1, np.float64(0.5719152903752529)), (2, np.float64(0.4527788584099488)), (3, np.float64(0.2829554400414037)), (4, np.float64(0.3407497309283162))]\n"
     ]
    }
   ],
   "source": [
    "## we need to sort the scores to get the index of the most similar document but  direct sorting will lose the original index\n",
    "\n",
    "# so first we will get the index using enumerate and then sort based on the score\n",
    "\n",
    "enumerated_scores = list(enumerate(similarities_score))\n",
    "print(enumerated_scores)\n"
   ]
  },
  {
   "cell_type": "code",
   "execution_count": 9,
   "id": "e7815547",
   "metadata": {},
   "outputs": [
    {
     "name": "stdout",
     "output_type": "stream",
     "text": [
      "1 , 0.5719152903752529\n"
     ]
    }
   ],
   "source": [
    "index,score = sorted(enumerated_scores, key = lambda x: x[1],reverse=True)[0] ## sorting based on the score which is at index 1 of the tuple\n",
    "print(index,score,sep=\" , \" )"
   ]
  },
  {
   "cell_type": "code",
   "execution_count": 10,
   "id": "82a708d2",
   "metadata": {},
   "outputs": [
    {
     "name": "stdout",
     "output_type": "stream",
     "text": [
      "Who is the best ronaldo?\n",
      "Cristiano Ronaldo is a forward for Al Nassr and plays for Portugal. He is renowned for his athleticism, finishing skills, and leadership on the field.\n",
      "similarity score:  0.5719152903752529\n"
     ]
    }
   ],
   "source": [
    "print(query)\n",
    "print(docs[index])\n",
    "print(\"similarity score: \", score)"
   ]
  },
  {
   "cell_type": "code",
   "execution_count": null,
   "id": "9128db93",
   "metadata": {},
   "outputs": [],
   "source": []
  }
 ],
 "metadata": {
  "kernelspec": {
   "display_name": "genai",
   "language": "python",
   "name": "python3"
  },
  "language_info": {
   "codemirror_mode": {
    "name": "ipython",
    "version": 3
   },
   "file_extension": ".py",
   "mimetype": "text/x-python",
   "name": "python",
   "nbconvert_exporter": "python",
   "pygments_lexer": "ipython3",
   "version": "3.10.18"
  }
 },
 "nbformat": 4,
 "nbformat_minor": 5
}
